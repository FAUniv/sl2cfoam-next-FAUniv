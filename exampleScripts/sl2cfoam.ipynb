{
 "cells": [
  {
   "cell_type": "markdown",
   "metadata": {},
   "source": [
    "This is an example of the usage of sl2cfoam.next library\n",
    "Ref. 2202.04360 [gr-qc], 1903.12624 [gr-qc]"
   ]
  },
  {
   "cell_type": "code",
   "execution_count": 1,
   "metadata": {},
   "outputs": [],
   "source": [
    "import JSON"
   ]
  },
  {
   "cell_type": "code",
   "execution_count": 2,
   "metadata": {},
   "outputs": [],
   "source": [
    "#Put this file in the folder where sl2cfoam-next is located.\n",
    "include(\"./sl2cfoam-next/julia/SL2Cfoam.jl\")\n",
    "using .SL2Cfoam\n",
    "using HalfIntegers"
   ]
  },
  {
   "cell_type": "code",
   "execution_count": 3,
   "metadata": {},
   "outputs": [
    {
     "data": {
      "text/plain": [
       "Main.SL2Cfoam.Config(VerbosityOff, VeryHighAccuracy, 100, 0)"
      ]
     },
     "metadata": {},
     "output_type": "display_data"
    }
   ],
   "source": [
    "# Immirzi parameter\n",
    "Immirzi = 1.2\n",
    "# If you want to change the data folder, please run the following initialization in your terminal again, or copy everything to another folder.\n",
    "#SL2CFOAM_FOLDER/ext/fastwigxj/bin/hash_js --max-E-3j=50 /dev/null YOUR_NEW_FOLDER/table_50.3j\n",
    "#SL2CFOAM_FOLDER/ext/fastwigxj/bin/hash_js --max-E-6j=40 /dev/null YOUR_NEW_FOLDER/table_40.6j\n",
    "sl2c_data_folder = \"./sl2cfoam-next/data_sl2cfoam\"\n",
    "sl2c_configuration = SL2Cfoam.Config(VerbosityOff, VeryHighAccuracy, 100, 0)\n",
    "# verbosity,accuracy,max_spin, max_MB_mem_per_thread"
   ]
  },
  {
   "cell_type": "code",
   "execution_count": 4,
   "metadata": {},
   "outputs": [],
   "source": [
    "# initialization of the library\n",
    "SL2Cfoam.cinit(sl2c_data_folder, Immirzi, sl2c_configuration)"
   ]
  },
  {
   "cell_type": "code",
   "execution_count": null,
   "metadata": {},
   "outputs": [],
   "source": []
  },
  {
   "cell_type": "code",
   "execution_count": 5,
   "metadata": {},
   "outputs": [
    {
     "data": {
      "text/plain": [
       "true"
      ]
     },
     "metadata": {},
     "output_type": "display_data"
    }
   ],
   "source": [
    "# Internal parallelization is on, can be set off using set_OMP(false). This is enough on personal computers or workstations.\n",
    "SL2Cfoam.get_OMP()"
   ]
  },
  {
   "cell_type": "code",
   "execution_count": 6,
   "metadata": {},
   "outputs": [
    {
     "data": {
      "text/plain": [
       "false"
      ]
     },
     "metadata": {},
     "output_type": "display_data"
    }
   ],
   "source": [
    "# MPI is disabled by default, if you need it (e.g. run the code on a cluster), recomplie the library with \"make CC=gcc-12 CXX=g++-12 BLAS=system MPI=1\"\n",
    "SL2Cfoam.is_MPI()"
   ]
  },
  {
   "cell_type": "code",
   "execution_count": 17,
   "metadata": {},
   "outputs": [
    {
     "data": {
      "text/plain": [
       "2×2×2×2×11 Array{Float64, 5}:\n",
       "[:, :, 1, 1, 1] =\n",
       "  1.28814e-13  4.72826e-14\n",
       " -2.16777e-13  2.36405e-14\n",
       "\n",
       "[:, :, 2, 1, 1] =\n",
       "  4.72826e-14  9.7282e-15\n",
       " -7.82377e-14  3.50454e-15\n",
       "\n",
       "[:, :, 1, 2, 1] =\n",
       " -2.16777e-13  -7.82377e-14\n",
       "  3.79127e-13  -4.72826e-14\n",
       "\n",
       "[:, :, 2, 2, 1] =\n",
       "  2.36405e-14  3.50454e-15\n",
       " -4.72826e-14  5.6815e-15\n",
       "\n",
       "[:, :, 1, 1, 2] =\n",
       " -7.16321e-14  -3.37123e-14\n",
       "  4.64874e-14   3.71773e-14\n",
       "\n",
       "[:, :, 2, 1, 2] =\n",
       " -3.37123e-14  -9.126e-15\n",
       "  3.1253e-14    3.55871e-15\n",
       "\n",
       "[:, :, 1, 2, 2] =\n",
       " 4.64874e-14   3.1253e-14\n",
       " 7.75563e-14  -6.63798e-14\n",
       "\n",
       "[:, :, 2, 2, 2] =\n",
       "  3.71773e-14  3.55871e-15\n",
       " -6.63798e-14  1.50503e-14\n",
       "\n",
       "[:, :, 1, 1, 3] =\n",
       " -1.19885e-13  -3.51857e-14\n",
       "  2.49308e-13  -4.43676e-14\n",
       "\n",
       "[:, :, 2, 1, 3] =\n",
       " -3.51857e-14  -1.57192e-15\n",
       "  8.49965e-14  -1.47946e-14\n",
       "\n",
       "[:, :, 1, 2, 3] =\n",
       "  2.49308e-13  8.49965e-14\n",
       " -4.07761e-13  3.51857e-14\n",
       "\n",
       "[:, :, 2, 2, 3] =\n",
       " -4.43676e-14  -1.47946e-14\n",
       "  3.51857e-14   1.55114e-14\n",
       "\n",
       ";;;;; … \n",
       "\n",
       "[:, :, 1, 1, 9] =\n",
       " 7.31986e-15   2.9869e-15\n",
       " 2.95082e-15  -7.29903e-15\n",
       "\n",
       "[:, :, 2, 1, 9] =\n",
       " 2.9869e-15   6.7636e-13\n",
       " 3.85005e-15  3.85287e-13\n",
       "\n",
       "[:, :, 1, 2, 9] =\n",
       " 2.95082e-15   3.85005e-15\n",
       " 3.91255e-15  -2.9869e-15\n",
       "\n",
       "[:, :, 2, 2, 9] =\n",
       " -7.29903e-15  3.85287e-13\n",
       " -2.9869e-15   2.31469e-13\n",
       "\n",
       "[:, :, 1, 1, 10] =\n",
       " -7.20714e-16  -3.14522e-15\n",
       " -1.97088e-16  -2.3975e-15\n",
       "\n",
       "[:, :, 2, 1, 10] =\n",
       " -3.14522e-15  -4.0996e-15\n",
       " -1.68944e-15   2.5713e-15\n",
       "\n",
       "[:, :, 1, 2, 10] =\n",
       " -1.97088e-16  -1.68944e-15\n",
       "  1.26603e-17  -1.60321e-15\n",
       "\n",
       "[:, :, 2, 2, 10] =\n",
       " -2.3975e-15   2.5713e-15\n",
       " -1.60321e-15  3.39155e-15\n",
       "\n",
       "[:, :, 1, 1, 11] =\n",
       " 1.75007e-16   8.48458e-17\n",
       " 6.18489e-17  -1.6173e-16\n",
       "\n",
       "[:, :, 2, 1, 11] =\n",
       " 8.48458e-17  -2.94902e-15\n",
       " 6.37584e-17  -1.82427e-15\n",
       "\n",
       "[:, :, 1, 2, 11] =\n",
       " 6.18489e-17   6.37584e-17\n",
       " 1.0359e-16   -8.48458e-17\n",
       "\n",
       "[:, :, 2, 2, 11] =\n",
       " -1.6173e-16   -1.82427e-15\n",
       " -8.48458e-17  -8.42529e-16"
      ]
     },
     "metadata": {},
     "output_type": "display_data"
    }
   ],
   "source": [
    "#2202.04360 for the cable diagram\n",
    "spins = j245, j125, j124, j145, j235, j234, j345, j123, j135, j134 = [5,5,5,5,2,2,2,2,2,2];\n",
    "\n",
    "# argments: spins and dl (the cut off)\n",
    "v = vertex_compute(spins,4);\n",
    "# This gives the vertex amplitue as a matrix for all possible intertwiners, which can be accessed by\n",
    "v.a"
   ]
  },
  {
   "cell_type": "code",
   "execution_count": 8,
   "metadata": {},
   "outputs": [
    {
     "data": {
      "text/plain": [
       "-1.0086215125447794e-13"
      ]
     },
     "metadata": {},
     "output_type": "display_data"
    }
   ],
   "source": [
    "# amplitude of fixed intertwiner is given by\n",
    "intertwiner_spin=[4,4,4,4,4]\n",
    "vertex_amplitude(spins,intertwiner_spin,4)"
   ]
  },
  {
   "cell_type": "markdown",
   "metadata": {},
   "source": [
    "Coherent states"
   ]
  },
  {
   "cell_type": "code",
   "execution_count": 9,
   "metadata": {},
   "outputs": [],
   "source": [
    "# Load the data we exported from boundary calculation\n",
    "coherent_theta_phi=JSON.parsefile(\"theta_phi_one_data.json\");"
   ]
  },
  {
   "cell_type": "code",
   "execution_count": 10,
   "metadata": {},
   "outputs": [
    {
     "data": {
      "text/plain": [
       "5-element Vector{Vector{Int64}}:\n",
       " [2, 2, 2, 5]\n",
       " [2, 2, 5, 2]\n",
       " [2, 5, 2, 2]\n",
       " [5, 2, 2, 2]\n",
       " [5, 5, 5, 5]"
      ]
     },
     "metadata": {},
     "output_type": "display_data"
    }
   ],
   "source": [
    "# The area according to the cable diagram is in the following order\n",
    "jcs=[[2,2,2,5],[2,2,5,2],[2,5,2,2],[5,2,2,2],[5,5,5,5]]"
   ]
  },
  {
   "cell_type": "code",
   "execution_count": 11,
   "metadata": {},
   "outputs": [
    {
     "data": {
      "text/plain": [
       "5-element Vector{LinearAlgebra.Transpose{Float64, Matrix{Float64}}}:\n",
       " [0.02979416521323638 0.9553166181245093; 1.0229585821127958 1.5506472801866709; 1.0229585821127958 0.3599859560623477; 2.5261129449194057 4.096909271714303]\n",
       " [2.1186340714769973 1.5506472801866709; 2.1186340714769973 0.3599859560623477; 0.6154797086703874 4.096909271714303; 2.5261129449194057 4.096909271714303]\n",
       " [1.5707963267948966 5.637911433295963; 1.5707963267948966 1.9106332362490186; 2.5261129449194057 4.096909271714303; 0.6154797086703874 4.096909271714303]\n",
       " [1.5707963267948966 0.0; 2.5261129449194057 4.096909271714303; 0.6154797086703874 4.096909271714303; 1.5707963267948966 1.9106332362490186]\n",
       " [2.5261129449194057 4.096909271714303; 0.6154797086703874 4.096909271714303; 1.5707963267948966 1.9106332362490186; 1.5707963267948966 0.0]"
      ]
     },
     "metadata": {},
     "output_type": "display_data"
    }
   ],
   "source": [
    "# Rearrange the coherent states according to the order. Now it is a 5x4x2 tensor. 5 for 5 tetrahedra, 4 for 4 triangles in each tetrahedron, and 2 gives theta and phi\n",
    "coherent_theta_phir=[transpose(hcat(coherent_theta_phi[i][i+1:5]...,coherent_theta_phi[5][1:i-1]...)) for i in 1:5]"
   ]
  },
  {
   "cell_type": "code",
   "execution_count": 12,
   "metadata": {},
   "outputs": [
    {
     "data": {
      "text/plain": [
       "4×2 transpose(::Matrix{Float64}) with eltype Float64:\n",
       " 0.0297942  0.955317\n",
       " 1.02296    1.55065\n",
       " 1.02296    0.359986\n",
       " 2.52611    4.09691"
      ]
     },
     "metadata": {},
     "output_type": "display_data"
    }
   ],
   "source": [
    "coherent_theta_phir[1]"
   ]
  },
  {
   "cell_type": "code",
   "execution_count": 13,
   "metadata": {},
   "outputs": [],
   "source": [
    "# Now we compute the matrix elements between coherent states and intertwiner states\n",
    "coherentstate_all_l=[coherentstate_compute((jcs[i]), coherent_theta_phir[i]) for i in 1:5];"
   ]
  },
  {
   "cell_type": "code",
   "execution_count": 14,
   "metadata": {},
   "outputs": [
    {
     "data": {
      "text/plain": [
       "2-element Vector{ComplexF64}:\n",
       " -0.004822082820802012 + 0.13202680098800912im\n",
       "   0.13202680098800912 + 0.004822082820802031im"
      ]
     },
     "metadata": {},
     "output_type": "display_data"
    }
   ],
   "source": [
    "# It gives a matrix on intertwiner states\n",
    "coherentstate_all_l[1].a"
   ]
  },
  {
   "cell_type": "code",
   "execution_count": 18,
   "metadata": {},
   "outputs": [
    {
     "data": {
      "text/plain": [
       "5.374954631408254e-20 - 1.4450240250796235e-19im"
      ]
     },
     "metadata": {},
     "output_type": "display_data"
    }
   ],
   "source": [
    "# cotract it with vertex matrix we get the amplitude on the given coherent state\n",
    "contract(v,coherentstate_all_l...)"
   ]
  },
  {
   "cell_type": "code",
   "execution_count": null,
   "metadata": {},
   "outputs": [],
   "source": []
  }
 ],
 "metadata": {
  "kernelspec": {
   "display_name": "Julia 1.9.4",
   "language": "julia",
   "name": "julia-1.9"
  },
  "language_info": {
   "file_extension": ".jl",
   "mimetype": "application/julia",
   "name": "julia",
   "version": "1.9.4"
  }
 },
 "nbformat": 4,
 "nbformat_minor": 4
}
